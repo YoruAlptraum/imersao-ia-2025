{
  "nbformat": 4,
  "nbformat_minor": 0,
  "metadata": {
    "colab": {
      "provenance": [],
      "include_colab_link": true
    },
    "kernelspec": {
      "name": "python3",
      "display_name": "Python 3"
    },
    "language_info": {
      "name": "python"
    }
  },
  "cells": [
    {
      "cell_type": "markdown",
      "metadata": {
        "id": "view-in-github",
        "colab_type": "text"
      },
      "source": [
        "<a href=\"https://colab.research.google.com/github/YoruAlptraum/imersao-ia-2025/blob/main/consulta_rapida_bot.ipynb\" target=\"_parent\"><img src=\"https://colab.research.google.com/assets/colab-badge.svg\" alt=\"Open In Colab\"/></a>"
      ]
    },
    {
      "cell_type": "markdown",
      "source": [
        "# Sobre o projeto\n",
        "\n",
        "Projeto de chatbot com Google Gemini desenvolvido para a Imersão IA da Alura.\n",
        "\n",
        "O objetivo principal deste bot para Telegram é auxiliar o usuário a tomar uma decisão mais informada sobre a necessidade de buscar atendimento médico. Através de uma conversa simples e interativa no Telegram, o bot fará perguntas relevantes sobre seus sintomas e sua condição atual. Ao final da interação, o usuário receberá uma orientação inicial sobre se é recomendado procurar um médico o mais breve possível ou se a situação pode ser monitorada antes de tomar uma decisão.\n",
        "\n",
        "**Importante:** Este bot oferece uma triagem inicial e **não substitui, de forma alguma, uma consulta médica profissional**. A avaliação fornecida aqui é apenas uma orientação preliminar e não deve ser considerada um diagnóstico ou recomendação de tratamento. Em caso de dúvidas persistentes ou sintomas graves, procure sempre um médico."
      ],
      "metadata": {
        "id": "55eLUN4Q7eyp"
      }
    },
    {
      "cell_type": "markdown",
      "source": [
        "## Setup e imports"
      ],
      "metadata": {
        "id": "TKjwYWurEP9J"
      }
    },
    {
      "cell_type": "code",
      "source": [
        "!pip -q install google-genai\n",
        "!pip -q install telebot\n",
        "!pip -q install google-adk"
      ],
      "metadata": {
        "id": "UCCbECexLk_h",
        "collapsed": true
      },
      "execution_count": 172,
      "outputs": []
    },
    {
      "cell_type": "code",
      "source": [
        "import os\n",
        "import telebot # bot do telegram\n",
        "from google import genai\n",
        "from google.colab import userdata\n",
        "\n",
        "# Framework ADK de agentes do Google\n",
        "from google.adk.agents import Agent\n",
        "from google.adk.runners import Runner\n",
        "from google.adk.sessions import InMemorySessionService\n",
        "from google.adk.tools import google_search\n",
        "from google.genai import types  # Para criar conteúdos (Content e Part)\n",
        "from datetime import date\n",
        "import textwrap # Para formatar melhor a saída de texto\n",
        "from IPython.display import display, Markdown # Para exibir texto formatado no Colab\n",
        "import requests # Para fazer requisições HTTP\n",
        "import warnings\n",
        "warnings.filterwarnings(\"ignore\")\n",
        "\n",
        "# Configura a API Key do Google Gemini\n",
        "os.environ[\"GOOGLE_API_KEY\"] = userdata.get('GOOGLE_API_KEY')\n",
        "# Configura o cliente da SDK do Gemini\n",
        "MODEL_ID = \"gemini-2.0-flash\"\n",
        "client = genai.Client()"
      ],
      "metadata": {
        "id": "NfCqHo1tLk8P"
      },
      "execution_count": 173,
      "outputs": []
    },
    {
      "cell_type": "markdown",
      "source": [
        "## Funções"
      ],
      "metadata": {
        "id": "vY6CCsJ8rvco"
      }
    },
    {
      "cell_type": "code",
      "source": [
        "session_service = InMemorySessionService()\n",
        "# Função auxiliar que envia uma mensagem para um agente via Runner e retorna a resposta final\n",
        "def call_agent(agent: Agent, user_id: str, message_text: str, session_id: str = \"default\") -> str:\n",
        "    # Tenta obter a sessão existente ou cria uma nova se não existir\n",
        "\n",
        "    session = session_service.get_session(app_name=agent.name, user_id=user_id, session_id=session_id)\n",
        "    if session is None:\n",
        "        session = session_service.create_session(app_name=agent.name, user_id=user_id, session_id=session_id)\n",
        "\n",
        "    runner = Runner(agent=agent, app_name=agent.name, session_service=session_service)\n",
        "    content = types.Content(role=\"user\", parts=[types.Part(text=message_text)])\n",
        "\n",
        "    final_response = \"\"\n",
        "    for event in runner.run(user_id=user_id, session_id=session_id, new_message=content):\n",
        "        if event.is_final_response():\n",
        "          for part in event.content.parts:\n",
        "            if part.text is not None:\n",
        "              final_response += part.text\n",
        "              final_response += \"\\n\"\n",
        "    return final_response"
      ],
      "metadata": {
        "id": "_xP4lWhsS5ko"
      },
      "execution_count": 106,
      "outputs": []
    },
    {
      "cell_type": "code",
      "source": [
        "# Função auxiliar para exibir texto formatado em Markdown no Colab\n",
        "def to_markdown(text):\n",
        "  text = text.replace('•', '  *')\n",
        "  return Markdown(textwrap.indent(text, '> ', predicate=lambda _: True))"
      ],
      "metadata": {
        "id": "8dosiodaxfFR"
      },
      "execution_count": 18,
      "outputs": []
    },
    {
      "cell_type": "code",
      "source": [
        "##########################################\n",
        "# --- Agente 1: Pesquisador --- #\n",
        "##########################################\n",
        "def agente_pesquisador(msg, user_id):\n",
        "    agent = Agent(\n",
        "        name=\"agente_pesquisador\",\n",
        "        model=\"gemini-2.0-flash\",\n",
        "        instruction=\"\"\"\n",
        "        Seu papel é identificar sintomas e fazer uma pesquisa sobre o problema do usuário para repassar a informação para outro agente que irá conversar com o usuário\n",
        "        use o google search para ajudar a reduzir a lista de possiveis causas para o problema do usuário.\n",
        "\n",
        "        retorne uma lista das até 5 mais provaveis causas que estejam relacionadas aos sintomas informados, com nivel de urgência, e uma ou duas perguntas que podem ajudar a melhor identificar o problema.\n",
        "\n",
        "        Faça perguntas relevantes mas não faça muitas perguntas de uma vez, limite para no máximo 3 perguntas por vez e mantenha um tom de conversa.\n",
        "\n",
        "        mantenha a informação concisa e objetiva.\n",
        "        \"\"\",\n",
        "        description=\"Agente que faz a pesquisa sobre o problema do usuário\",\n",
        "        tools=[google_search]\n",
        "    )\n",
        "    entrada = f\"Mensagem inicial: {msg}\"\n",
        "    # Executa o agente\n",
        "    pesquisa = call_agent(agent, user_id, entrada)\n",
        "    return pesquisa"
      ],
      "metadata": {
        "id": "o8bqIfi_DyH8"
      },
      "execution_count": 168,
      "outputs": []
    },
    {
      "cell_type": "code",
      "source": [
        "##########################################\n",
        "# --- Agente 2: Mediador --- #\n",
        "##########################################\n",
        "def agente_mediador(msg, pesquisa, user_id):\n",
        "    agent = Agent(\n",
        "        name=\"agente_mediador\",\n",
        "        model=\"gemini-2.0-flash\",\n",
        "        instruction=\"\"\"\n",
        "        Você é um chatbot de Telegram chamado Consulta Rápida\n",
        "        Seu papel é ajudar o usuário a tomar uma decisão mais informada se deve buscar atendimento médico ou se pode esperar um pouco os sintomas serem corrigidos.\n",
        "        Analise as informações coletadas e utilize elas para formular uma nova pergunta ao usuário.\n",
        "\n",
        "        Auxilie o usuário a tomar uma decisão quando tiver informações suficientes.\n",
        "\n",
        "        Se a decisão final for que é recomendado ao usuário ir ao médico pergunte ao usuário se ele deseja buscar médicos/clinicas próximas.\n",
        "\n",
        "        Mantenha as mensagens sucintas e sem termos tecnicos.\n",
        "        \"\"\",\n",
        "        description=\"Agente que simplifica a informação pesquisada e interage com o usuário\",\n",
        "    )\n",
        "    entrada = f\"Informações coletadas: {pesquisa}, Mensagem inicial do usuário {msg}\"\n",
        "    # Executa o agente\n",
        "    pesquisa = call_agent(agent, user_id, entrada)\n",
        "    return pesquisa"
      ],
      "metadata": {
        "id": "Anm7Pw-X7Mt-"
      },
      "execution_count": 169,
      "outputs": []
    },
    {
      "cell_type": "code",
      "source": [
        "##########################################\n",
        "# --- Agente 3: Localizador --- #\n",
        "##########################################\n",
        "def agente_localizador(msg, pesquisa, user_id):\n",
        "    agent = Agent(\n",
        "        name=\"agente_localizador\",\n",
        "        model=\"gemini-2.0-flash\",\n",
        "        instruction=\"\"\"\n",
        "        Seu papel é buscar médicos/clinicas relevantes ao problema do usuário próximas a localização dele.\n",
        "\n",
        "        Caso o usuário responda que quer buscar locais próximos peça a ele que informe a localização para buscar clínicas relevantes pŕoximas e\n",
        "        use o google_search para encontrar endereços, telefones e horários de funcionamento de locais relevantes e retorne os 5 mais próximos e bem avaliados do google em formato de lista.\n",
        "        Priorize resultados que incluem informações de contato e localização.\n",
        "\n",
        "        Formatação da lista:\n",
        "\n",
        "        1.Clinica:\n",
        "            - Endereço:\n",
        "            - Telefone:\n",
        "            - Horário de funcionamento:\n",
        "            - Sobre:\n",
        "\n",
        "        Se o usuário ainda não tiver respondido a pergunta sobre buscar locais próximos apenas repita o \"Retorno inicial\"\n",
        "        \"\"\",\n",
        "        description=\"Agente que busca médicos/clinicas próximas\",\n",
        "        tools=[google_search]\n",
        "    )\n",
        "    entrada = f\"Retorno inicial: {pesquisa}, Mensagem do usuário {msg}\"\n",
        "    # Executa o agente\n",
        "    pesquisa = call_agent(agent, user_id, entrada)\n",
        "    return pesquisa"
      ],
      "metadata": {
        "id": "8toL_tO8MULI"
      },
      "execution_count": 170,
      "outputs": []
    },
    {
      "cell_type": "markdown",
      "source": [
        "## Implementação para rodar com telegram"
      ],
      "metadata": {
        "id": "omkQdu5dIlDu"
      }
    },
    {
      "cell_type": "code",
      "source": [
        "bot = telebot.TeleBot(userdata.get('TELEGRAM_BOT_KEY'))\n",
        "data_de_hoje = date.today().strftime(\"%d/%m/%Y\")\n",
        "session_service = InMemorySessionService()\n",
        "\n",
        "# mensagens específicas usando '/' . ex: /start e /help\n",
        "@bot.message_handler(['start', 'help'])\n",
        "def start(msg:telebot.types.Message):\n",
        "    bot.reply_to(msg, \"\"\"\n",
        "    Olá, sou um assistente virtual para te ajudar a decidir quando procurar um médico.\n",
        "    Converse comigo e responda algumas perguntas sobre seus sintomas. Ao final, receba uma orientação inicial sobre a necessidade de atendimento médico.\n",
        "\n",
        "    Atenção: Lembre-se que sou apenas uma triagem inicial e não substituo uma consulta médica profissional. Em caso de dúvidas ou sintomas graves, procure sempre um médico.\n",
        "    \"\"\")\n",
        "\n",
        "# reage a qualquer outra mensagem\n",
        "@bot.message_handler()\n",
        "def handler(msg:telebot.types.Message):\n",
        "    user_id = str(msg.from_user.id)\n",
        "    pesquisa = agente_pesquisador(msg.text, user_id)\n",
        "    response = agente_mediador(msg, pesquisa, user_id)\n",
        "    localiza = agente_localizador(msg, response, user_id)\n",
        "    bot.reply_to(msg, localiza)\n",
        "\n",
        "bot.infinity_polling()"
      ],
      "metadata": {
        "collapsed": true,
        "id": "Z1UorLziIjm8"
      },
      "execution_count": null,
      "outputs": []
    }
  ]
}